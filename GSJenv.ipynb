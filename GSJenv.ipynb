{
 "cells": [
  {
   "cell_type": "markdown",
   "id": "eeac1816",
   "metadata": {},
   "source": [
    "## Write a function that generates the result hello world\n",
    "- Define hello_world function that takes no arguments and prints out “Hello, World!” string.\n",
    "- Call the function"
   ]
  },
  {
   "cell_type": "code",
   "execution_count": 1,
   "id": "d29c3aed",
   "metadata": {},
   "outputs": [
    {
     "name": "stdout",
     "output_type": "stream",
     "text": [
      "Hello, World!\n"
     ]
    }
   ],
   "source": [
    "def hello_world():\n",
    "    print(\"Hello, World!\")\n",
    "    \n",
    "t = hello_world()"
   ]
  }
 ],
 "metadata": {
  "kernelspec": {
   "display_name": "Python 3 (ipykernel)",
   "language": "python",
   "name": "python3"
  },
  "language_info": {
   "codemirror_mode": {
    "name": "ipython",
    "version": 3
   },
   "file_extension": ".py",
   "mimetype": "text/x-python",
   "name": "python",
   "nbconvert_exporter": "python",
   "pygments_lexer": "ipython3",
   "version": "3.8.2"
  }
 },
 "nbformat": 4,
 "nbformat_minor": 5
}
